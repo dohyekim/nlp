{
 "cells": [
  {
   "cell_type": "code",
   "execution_count": 1,
   "metadata": {},
   "outputs": [],
   "source": [
    "from transformers import GPTNeoXForCausalLM, PreTrainedTokenizerFast\n",
    "import torch\n",
    "\n",
    "model_ckpt = 'beomi/KoAlpaca-Polyglot'\n",
    "device = torch.device(\"cuda\" if torch.cuda.is_available() else \"cpu\")"
   ]
  },
  {
   "cell_type": "code",
   "execution_count": 2,
   "metadata": {},
   "outputs": [],
   "source": [
    "model = GPTNeoXForCausalLM.from_pretrained(model_ckpt).to(device)"
   ]
  },
  {
   "cell_type": "code",
   "execution_count": 3,
   "metadata": {},
   "outputs": [],
   "source": [
    "tokenizer = PreTrainedTokenizerFast.from_pretrained(model_ckpt)"
   ]
  },
  {
   "cell_type": "code",
   "execution_count": 4,
   "metadata": {},
   "outputs": [],
   "source": [
    "prompt = \"\"\"\\\n",
    "    |로 구분된 키워드와 관련된 채용 공고를 생성해주세요.\n",
    "    키워드를 |로 구분했을 때 첫번째 키워드는 전반적인 채용 공고의 방향성을 나타냅니다.\n",
    "    키워드를 |로 구분했을 때 첫번째 키워드를 제외한 나머지 키워드는 채용공고에 들어가야 하는 필수 키워드입니다.\n",
    "    \n",
    "    예시)\n",
    "    키워드: 업무 내용|파이썬|인공지능|자연어처리\n",
    "    채용공고: -python을 활용한 인공지능 알고리즘 개발\\n -python을 활용한 장비 통신\\n -데이터분석,인공지능 알고리즘 개발 등\\n -Python, 딥러닝 관련 개발\n",
    "    \n",
    "    키워드: 업무내용|트랜스포머|AI|NLP\n",
    "    \"\"\""
   ]
  },
  {
   "cell_type": "code",
   "execution_count": 5,
   "metadata": {},
   "outputs": [],
   "source": [
    "prompt = \"\"\"\\\n",
    "    키워드와 관련된 채용 공고를 생성해주세요.\n",
    "    \n",
    "    키워드: 업무 내용|파이썬|인공지능|자연어처리\n",
    "    채용공고: -python을 활용한 인공지능 알고리즘 개발\n",
    "    -python을 활용한 장비 통신\n",
    "    -데이터분석,인공지능 알고리즘 개발 등\n",
    "    -Python, 딥러닝 관련 개발\n",
    "    \n",
    "    키워드: 업무내용|트랜스포머|AI|NLP\n",
    "    채용공고:\n",
    "    \"\"\""
   ]
  },
  {
   "cell_type": "code",
   "execution_count": 6,
   "metadata": {},
   "outputs": [],
   "source": [
    "inputs = tokenizer(prompt, return_tensors=\"pt\")\n",
    "input_ids = inputs[\"input_ids\"].to(device)\n",
    "attention_mask = inputs[\"attention_mask\"].to(device)"
   ]
  },
  {
   "cell_type": "code",
   "execution_count": 7,
   "metadata": {},
   "outputs": [],
   "source": [
    "decode_params = {\n",
    "    \"input_ids\": input_ids,\n",
    "    \"max_length\": 128,\n",
    "    \"num_beams\": 2, #용량 문제\n",
    "    \"do_sample\": False,\n",
    "    \"no_repeat_ngram_size\": 2,\n",
    "    \"attention_mask\": attention_mask\n",
    "}"
   ]
  },
  {
   "cell_type": "code",
   "execution_count": null,
   "metadata": {},
   "outputs": [],
   "source": [
    "output_beam = model.generate(input_ids, attention_mask=attention_mask, max_length=decode_params[\"max_length\"], num_beams=decode_params['num_beams'], do_sample=decode_params['do_sample'], no_repeat_ngram_size=decode_params['no_repeat_ngram_size'])"
   ]
  },
  {
   "cell_type": "code",
   "execution_count": null,
   "metadata": {},
   "outputs": [],
   "source": [
    "import torch.nn.functional as F\n",
    "\n",
    "def log_probs_from_logits(logits, labels):\n",
    "    logp = F.log_softmax(logits, dim=-1)\n",
    "    logp_label = torch.gather(logp, 2, labels.unsqueeze(2)).squeeze(-1)\n",
    "    return logp_label"
   ]
  },
  {
   "cell_type": "code",
   "execution_count": null,
   "metadata": {},
   "outputs": [],
   "source": [
    "def sequence_logprob(model, labels, input_len=0):\n",
    "    with torch.no_grad():\n",
    "        output = model(labels)\n",
    "        \n",
    "        log_probs = log_probs_from_logits(\n",
    "            output.logits[:, :-1, :], labels[:,1:]\n",
    "        )\n",
    "        \n",
    "        seq_log_prob = torch.sum(log_probs[:, input_len:])\n",
    "        \n",
    "    return seq_log_prob.cpu().numpy()"
   ]
  },
  {
   "cell_type": "code",
   "execution_count": null,
   "metadata": {},
   "outputs": [],
   "source": [
    "logp=sequence_logprob(model, output_beam, input_len=len(input_ids[0]))"
   ]
  },
  {
   "cell_type": "code",
   "execution_count": null,
   "metadata": {},
   "outputs": [],
   "source": [
    "print(tokenizer.decode(output_beam[0]))"
   ]
  },
  {
   "cell_type": "code",
   "execution_count": null,
   "metadata": {},
   "outputs": [],
   "source": [
    "print(f\"\\n로그확률: {logp:.2f}\")"
   ]
  }
 ],
 "metadata": {
  "kernelspec": {
   "display_name": "venv",
   "language": "python",
   "name": "python3"
  },
  "language_info": {
   "codemirror_mode": {
    "name": "ipython",
    "version": 3
   },
   "file_extension": ".py",
   "mimetype": "text/x-python",
   "name": "python",
   "nbconvert_exporter": "python",
   "pygments_lexer": "ipython3",
   "version": "3.8.10"
  },
  "orig_nbformat": 4
 },
 "nbformat": 4,
 "nbformat_minor": 2
}
