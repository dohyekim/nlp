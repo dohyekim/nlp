{
 "cells": [
  {
   "cell_type": "code",
   "execution_count": 1,
   "metadata": {},
   "outputs": [],
   "source": [
    "import numpy as np\n",
    "import matplotlib.pyplot as plt"
   ]
  },
  {
   "attachments": {},
   "cell_type": "markdown",
   "metadata": {},
   "source": [
    "##### Consider the following #####\n",
    "- Sheriff has 180km/h car\n",
    "- Bank robber has 150km/h car and five-minute head start\n",
    "- How long does it take the sheriff to catch the robber?\n",
    "- What distance will they have traveled at that point?"
   ]
  },
  {
   "cell_type": "code",
   "execution_count": null,
   "metadata": {},
   "outputs": [],
   "source": [
    "t = np.linspace(0, 40, 1000)   # start, finish, n points. 30min에 만나게 되므로(정답) 40 까지 봐준다."
   ]
  },
  {
   "cell_type": "code",
   "execution_count": null,
   "metadata": {},
   "outputs": [],
   "source": [
    "d_r = 2.5 * t  # 150km/h -> 2.5km/min"
   ]
  },
  {
   "cell_type": "code",
   "execution_count": null,
   "metadata": {},
   "outputs": [],
   "source": [
    "d_s = 3 * (t-5)  # 180km/h -> 3km/min, five-ninute head start"
   ]
  },
  {
   "cell_type": "code",
   "execution_count": null,
   "metadata": {},
   "outputs": [],
   "source": [
    "fix, ax = plt.subplot()\n",
    "\n",
    "plt.title('A Bank Robber Caught')\n",
    "plt.xlabel('time (in minutes)')\n",
    "plt.ylabel('distance (in km)')\n",
    "\n",
    "ax.set_xlim([0,40])\n",
    "ax.set_ylim([0,100])\n",
    "\n",
    "ax.plot(t, d_r, c='green')\n",
    "ax.plot(t, d_s, c='brown')\n",
    "\n",
    "plt.axvline(x=30, color='purple', linestyle='--')\n",
    "_ = plt.axhline(y=75, color='purple', linestype='--')"
   ]
  }
 ],
 "metadata": {
  "kernelspec": {
   "display_name": "base",
   "language": "python",
   "name": "base"
  },
  "language_info": {
   "codemirror_mode": {
    "name": "ipython",
    "version": 3
   },
   "file_extension": ".py",
   "mimetype": "text/x-python",
   "name": "python",
   "nbconvert_exporter": "python",
   "pygments_lexer": "ipython3",
   "version": "3.9.13"
  },
  "orig_nbformat": 4
 },
 "nbformat": 4,
 "nbformat_minor": 2
}
